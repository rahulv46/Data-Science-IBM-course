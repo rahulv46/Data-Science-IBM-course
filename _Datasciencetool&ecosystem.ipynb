{
 "cells": [
  {
   "cell_type": "markdown",
   "id": "9547caa9-b77f-4bd0-bbcd-93986724a821",
   "metadata": {},
   "source": [
    "<h1>Data Science Tools and Ecosystem</h1>\n"
   ]
  },
  {
   "cell_type": "markdown",
   "id": "7ea0775a-6975-4f95-80d8-fabcfb7d57ae",
   "metadata": {},
   "source": [
    "In this notebook, Data Science Tools and Ecosystem are summarized."
   ]
  },
  {
   "cell_type": "markdown",
   "id": "4b28dd4b-e2c3-4e0b-ba30-309f017ac5dd",
   "metadata": {},
   "source": [
    "Some of the popular languages that Data Scientists use are:\n",
    "<ol>\n",
    "  <li>Python</li>\n",
    "  <li>R</li>\n",
    "  <li>SQL</li>\n",
    "</ol>\n"
   ]
  },
  {
   "cell_type": "markdown",
   "id": "dcfb7e88-e2c0-4a7d-9ba4-cb6bef5cc6f2",
   "metadata": {},
   "source": [
    "Some of the commonly used libraries used by Data Scientists include:\n",
    "<ol>\n",
    "  <li>NumPy</li>\n",
    "  <li>Pandas</li>\n",
    "  <li>Scikit learn</li>\n",
    "  <li>PyTorch</li>\n",
    "</ol>\n",
    " "
   ]
  },
  {
   "cell_type": "markdown",
   "id": "9196fc8d-dd12-4c7c-b1e0-bd5e3fbabd69",
   "metadata": {},
   "source": [
    "| **Data Science Tools**           |\n",
    "|----------------------------------|\n",
    "| Jupyter Notebook                 |\n",
    "| RStudio                          |\n",
    "| Apache Zeppelin                  |\n"
   ]
  },
  {
   "cell_type": "markdown",
   "id": "fc7788f9-81e0-4bea-880e-214e6fbdfe18",
   "metadata": {},
   "source": [
    "### Below are a few examples of evaluating arithmetic expressions in Python\n",
    "\n",
    "Arithmetic expressions involve operations such as addition, subtraction, multiplication, and division. Here are some examples:\n",
    "\n",
    "- **Addition**: `2 + 3` evaluates to `5`.\n",
    "- **Subtraction**: `7 - 4` evaluates to `3`.\n",
    "- **Multiplication**: `6 * 8` evaluates to `48`.\n",
    "- **Division**: `10 / 2` evaluates to `5.0`.\n",
    "- **Exponentiation**: `2 ** 3` evaluates to `8`.\n",
    "- **Modulo (remainder)**: `10 % 3` evaluates to `1`.\n"
   ]
  },
  {
   "cell_type": "code",
   "execution_count": 8,
   "id": "74fa99f1-633b-46e6-addc-4237560ff5a4",
   "metadata": {},
   "outputs": [
    {
     "data": {
      "text/plain": [
       "17"
      ]
     },
     "execution_count": 8,
     "metadata": {},
     "output_type": "execute_result"
    }
   ],
   "source": [
    "#This is a simple arithmetic expression to multiply then add integers\n",
    "(3*4)+5\n"
   ]
  },
  {
   "cell_type": "code",
   "execution_count": 9,
   "id": "38465789-8ee2-4577-9add-cc2226195b55",
   "metadata": {},
   "outputs": [
    {
     "data": {
      "text/plain": [
       "3.3333333333333335"
      ]
     },
     "execution_count": 9,
     "metadata": {},
     "output_type": "execute_result"
    }
   ],
   "source": [
    "# This will convert 200 minutes to hours by dividing by 60\n",
    "hours = 200 / 60\n",
    "hours\n"
   ]
  },
  {
   "cell_type": "markdown",
   "id": "0a313a58-45de-445f-bc00-54b6e036c962",
   "metadata": {},
   "source": [
    "**Objectives:**\n",
    "\n",
    "- List popular languages for Data Science.\n",
    "- Explain how to evaluate basic arithmetic expressions in Python.\n",
    "- Demonstrate how to convert minutes into hours using a simple Python expression.\n",
    "- Introduce common libraries used in Data Science.\n",
    "- Highlight popular development tools for Data Science.\n"
   ]
  },
  {
   "cell_type": "markdown",
   "id": "b3e85edb-7ba6-43ac-bafa-b6b98d4c9966",
   "metadata": {},
   "source": [
    "<h2>Author</h2>\n",
    "Rahul V\n"
   ]
  },
  {
   "cell_type": "code",
   "execution_count": null,
   "id": "c8cd5c5f-94fa-43cb-834b-20ffcd4f0602",
   "metadata": {},
   "outputs": [],
   "source": []
  }
 ],
 "metadata": {
  "kernelspec": {
   "display_name": "Python 3 (ipykernel)",
   "language": "python",
   "name": "python3"
  },
  "language_info": {
   "codemirror_mode": {
    "name": "ipython",
    "version": 3
   },
   "file_extension": ".py",
   "mimetype": "text/x-python",
   "name": "python",
   "nbconvert_exporter": "python",
   "pygments_lexer": "ipython3",
   "version": "3.11.9"
  }
 },
 "nbformat": 4,
 "nbformat_minor": 5
}
